{
 "cells": [
  {
   "cell_type": "code",
   "execution_count": 1,
   "id": "cc21ed78",
   "metadata": {},
   "outputs": [],
   "source": [
    "import numpy as np\n",
    "import matplotlib.pyplot as plt\n",
    "\n",
    "import pandas as pd\n",
    "from pandas import DataFrame\n",
    "\n",
    "from sklearn.model_selection import train_test_split\n",
    "from sklearn.ensemble import RandomForestRegressor \n",
    "import sklearn.metrics as metrics\n",
    "\n",
    "import time\n",
    "import psutil"
   ]
  },
  {
   "cell_type": "code",
   "execution_count": 2,
   "id": "816dc87b",
   "metadata": {},
   "outputs": [],
   "source": [
    "np.random.seed(123)\n",
    "\n",
    "# Define the number of simulations\n",
    "num_simulations = 100000\n",
    "\n",
    "# Define the limits for a, b, and c\n",
    "Cd_limits = (.62, .64)  # Discharge Coefficient for sharp edge orifice (unitless)\n",
    "dia_limits = (.024, .026) # Orifice Diameter (in)\n",
    "dP_limits = (950, 1050) # pressure drop (psi)\n",
    "Sg_limits = (.840, .860) # (specific gravity)\n",
    "\n",
    "#average\n",
    "Cd_mean = (Cd_limits[0] + Cd_limits[1]) / 2\n",
    "dia_mean = (dia_limits[0] + dia_limits[1]) / 2\n",
    "dP_mean = (dP_limits[0] + dP_limits[1]) / 2\n",
    "Sg_mean = (Sg_limits[0] + Sg_limits[1]) / 2\n",
    "\n",
    "\n",
    "# standard deviation \n",
    "Cd_stdev = (Cd_limits[1] - Cd_limits[0]) / 6\n",
    "dia_stdev = (dia_limits[1] - dia_limits[0]) / 6\n",
    "dP_stdev = (dP_limits[1] - dP_limits[0]) / 6\n",
    "Sg_stdev = (Sg_limits[1] - Sg_limits[0]) / 6\n",
    "\n",
    "# Generate random values for a, b, and c\n",
    "Cd= np.random.normal(loc=Cd_mean, scale=Cd_stdev, size=num_simulations)\n",
    "dia = np.random.normal(loc=dia_mean, scale=dia_stdev, size=num_simulations)\n",
    "dP = np.random.normal(loc=dP_mean, scale=dP_stdev, size=num_simulations)\n",
    "Sg= np.random.normal(loc=Sg_mean, scale=Sg_stdev, size=num_simulations)\n",
    "\n",
    "# Calculate y for each set of random values\n",
    "Q = 29.81*Cd*(dia**2)*np.sqrt(dP/Sg)\n",
    "\n"
   ]
  },
  {
   "cell_type": "code",
   "execution_count": 3,
   "id": "e2012e95",
   "metadata": {},
   "outputs": [
    {
     "data": {
      "image/png": "[encoded data removed]",
      "text/plain": [
       "<Figure size 640x480 with 1 Axes>"
      ]
     },
     "metadata": {},
     "output_type": "display_data"
    }
   ],
   "source": [
    "# Plot the standard distribution of Q values\n",
    "plt.hist(Q, bins=30, density=True, alpha=0.7, color='blue', edgecolor='black')\n",
    "plt.title('Standard Distribution of Q Values')\n",
    "plt.xlabel('Q')\n",
    "plt.ylabel('Probability Density')\n",
    "plt.grid(True)\n",
    "plt.show()"
   ]
  },
  {
   "cell_type": "code",
   "execution_count": 4,
   "id": "85c6f1e1",
   "metadata": {},
   "outputs": [
    {
     "name": "stdout",
     "output_type": "stream",
     "text": [
      "MEAN Test: 0.40269\n",
      "RMSE Test: 0.00053\n",
      "MAE Test: 0.00036\n",
      "R^2 Test: 0.99790\n",
      "Execution Time: 1.489030122756958 seconds\n",
      "Memory Usage: 233.1328125 MB\n"
     ]
    }
   ],
   "source": [
    "start_time = time.time()\n",
    "\n",
    "\"\"\"\n",
    "Split data\n",
    "\"\"\"\n",
    "\n",
    "np.random.seed(123)\n",
    "\n",
    "TARGET_A = \"Q\"\n",
    "\n",
    "\n",
    "Y = pd.DataFrame({\n",
    "    'Q': Q\n",
    "})\n",
    "X = pd.DataFrame({\n",
    "    'Cd': Cd,\n",
    "    'dia': dia,\n",
    "    'dP': dP,\n",
    "    'Sg': Sg\n",
    "})\n",
    "X_train, X_test, Y_train, Y_test = train_test_split(X, Y, train_size=0.8, test_size=0.2, random_state=1)\n",
    "\n",
    "\n",
    "\n",
    "\"\"\"\n",
    "RANDOM FOREST \n",
    "Function\n",
    "\"\"\"\n",
    "\n",
    "\n",
    "amt_m01_RF = RandomForestRegressor(n_estimators = 7, random_state=1)\n",
    "amt_m01_RF = amt_m01_RF.fit( X_train, Y_train[TARGET_A] )\n",
    "\n",
    "Y_Pred_train = amt_m01_RF.predict(X_train)\n",
    "Y_Pred_test = amt_m01_RF.predict(X_test)\n",
    "\n",
    "\n",
    "\n",
    "\"\"\"\n",
    "Metrics\n",
    "\"\"\"\n",
    "\n",
    "RMSE_TEST = np.sqrt(metrics.mean_squared_error(Y_test[TARGET_A], Y_Pred_test))\n",
    "MAE_TEST = metrics.mean_absolute_error(Y_test[TARGET_A], Y_Pred_test)\n",
    "R2_TEST = metrics.r2_score(Y_test[TARGET_A], Y_Pred_test)\n",
    "\n",
    "\n",
    "print(\"MEAN Test: {:.5f}\".format(Y_test[TARGET_A].mean()))\n",
    "print(\"RMSE Test: {:.5f}\".format(RMSE_TEST))\n",
    "print(\"MAE Test: {:.5f}\".format(MAE_TEST))\n",
    "print(\"R^2 Test: {:.5f}\".format(R2_TEST))\n",
    "\n",
    "\n",
    "end_time = time.time()\n",
    "execution_time = end_time - start_time\n",
    "memory_info = psutil.Process().memory_info() # Get memory usage\n",
    "\n",
    "print(f\"Execution Time: {execution_time} seconds\")\n",
    "print(f\"Memory Usage: {memory_info.rss / 1024 / 1024} MB\")"
   ]
  },
  {
   "cell_type": "code",
   "execution_count": null,
   "id": "8ae52ab6",
   "metadata": {},
   "outputs": [],
   "source": []
  }
 ],
 "metadata": {
  "kernelspec": {
   "display_name": "Python 3 (ipykernel)",
   "language": "python",
   "name": "python3"
  },
  "language_info": {
   "codemirror_mode": {
    "name": "ipython",
    "version": 3
   },
   "file_extension": ".py",
   "mimetype": "text/x-python",
   "name": "python",
   "nbconvert_exporter": "python",
   "pygments_lexer": "ipython3",
   "version": "3.10.8"
  }
 },
 "nbformat": 4,
 "nbformat_minor": 5
}
